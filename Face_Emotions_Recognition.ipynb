{
  "nbformat": 4,
  "nbformat_minor": 0,
  "metadata": {
    "colab": {
      "name": "Face Emotions Recognition.ipynb",
      "provenance": []
    },
    "kernelspec": {
      "name": "python3",
      "display_name": "Python 3"
    },
    "language_info": {
      "name": "python"
    },
    "accelerator": "GPU"
  },
  "cells": [
    {
      "cell_type": "code",
      "execution_count": 1,
      "metadata": {
        "colab": {
          "base_uri": "https://localhost:8080/"
        },
        "id": "jxdKSu6mVF6h",
        "outputId": "a4c31d2e-6ace-4be3-9af1-2bcc0c50e3ff"
      },
      "outputs": [
        {
          "output_type": "stream",
          "name": "stdout",
          "text": [
            "Tue Mar  8 16:21:45 2022       \n",
            "+-----------------------------------------------------------------------------+\n",
            "| NVIDIA-SMI 460.32.03    Driver Version: 460.32.03    CUDA Version: 11.2     |\n",
            "|-------------------------------+----------------------+----------------------+\n",
            "| GPU  Name        Persistence-M| Bus-Id        Disp.A | Volatile Uncorr. ECC |\n",
            "| Fan  Temp  Perf  Pwr:Usage/Cap|         Memory-Usage | GPU-Util  Compute M. |\n",
            "|                               |                      |               MIG M. |\n",
            "|===============================+======================+======================|\n",
            "|   0  Tesla K80           Off  | 00000000:00:04.0 Off |                    0 |\n",
            "| N/A   58C    P8    33W / 149W |      0MiB / 11441MiB |      0%      Default |\n",
            "|                               |                      |                  N/A |\n",
            "+-------------------------------+----------------------+----------------------+\n",
            "                                                                               \n",
            "+-----------------------------------------------------------------------------+\n",
            "| Processes:                                                                  |\n",
            "|  GPU   GI   CI        PID   Type   Process name                  GPU Memory |\n",
            "|        ID   ID                                                   Usage      |\n",
            "|=============================================================================|\n",
            "|  No running processes found                                                 |\n",
            "+-----------------------------------------------------------------------------+\n"
          ]
        }
      ],
      "source": [
        "!nvidia-smi"
      ]
    },
    {
      "cell_type": "code",
      "source": [
        "!rm -rf /content/Augmented/angry\n",
        "!mkdir /content/Augmented/angry"
      ],
      "metadata": {
        "id": "3yp5Gl1pgYte"
      },
      "execution_count": 58,
      "outputs": []
    },
    {
      "cell_type": "code",
      "source": [
        "from numpy import expand_dims\n",
        "from tensorflow.keras.preprocessing.image import load_img\n",
        "from tensorflow.keras.preprocessing.image import img_to_array\n",
        "from tensorflow.keras.preprocessing.image import ImageDataGenerator\n",
        "import cv2\n",
        "from matplotlib import pyplot\n",
        "import os\n",
        "import uuid\n",
        "\n",
        "path = \"/content/EmotionsDataset_Splitted/data/test/happy/\"\n",
        "path_augmented = \"/content/Augmented/happy/\"\n",
        "\n",
        "images = os.listdir(path)\n",
        "\n",
        "# Brightness\n",
        "\n",
        "for img in images:\n",
        "\t# load the image\n",
        "\timage = load_img(path+str(img), target_size=(96, 96))\n",
        "\t# convert to numpy array\n",
        "\tdata = img_to_array(image)\n",
        "\t# expand dimension to one sample\n",
        "\tsamples = expand_dims(data, 0)\n",
        "\t# create image data augmentation generator\n",
        "\tdatagen = ImageDataGenerator(brightness_range=[0.2,1.0])\n",
        "\t# prepare iterator\n",
        "\tit = datagen.flow(samples, batch_size=1)\n",
        "\n",
        "\timg_id = 0\n",
        "\t# generate samples and plot\n",
        "\tfor _ in range(8):\n",
        "\t\t# generate batch of images\n",
        "\t\tbatch = it.next()\n",
        "\t\t# convert to unsigned integers for viewing\n",
        "\t\timage = batch[0].astype('uint8')\n",
        "\t\timg_id += 1\n",
        "\t\tphoto_path = path_augmented+f\"{uuid.uuid1()}.jpg\"\n",
        "\t\timage = cv2.cvtColor(image, cv2.COLOR_BGR2RGB)\n",
        "\t\tcv2.imwrite(photo_path, image)\n",
        "\t\tprint(\"Saved:\", photo_path)\n",
        "\n",
        "# Horizontal Flip\n",
        "\n",
        "for img in images:\n",
        "\t# load the image\n",
        "\timage = load_img(path+str(img), target_size=(96, 96))\n",
        "\t# convert to numpy array\n",
        "\tdata = img_to_array(image)\n",
        "\t# expand dimension to one sample\n",
        "\tsamples = expand_dims(data, 0)\n",
        "\t# create image data augmentation generator\n",
        "\tdatagen = ImageDataGenerator(horizontal_flip=True)\n",
        "\t# prepare iterator\n",
        "\tit = datagen.flow(samples, batch_size=1)\n",
        "\n",
        "\timg_id = 0\n",
        "\t# generate samples and plot\n",
        "\tfor _ in range(8):\n",
        "\t\t# generate batch of images\n",
        "\t\tbatch = it.next()\n",
        "\t\t# convert to unsigned integers for viewing\n",
        "\t\timage = batch[0].astype('uint8')\n",
        "\t\timg_id += 1\n",
        "\t\tphoto_path = path_augmented+f\"{uuid.uuid1()}.jpg\"\n",
        "\t\timage = cv2.cvtColor(image, cv2.COLOR_BGR2RGB)\n",
        "\t\tcv2.imwrite(photo_path, image)\n",
        "\t\tprint(\"Saved:\", photo_path)\n",
        "\n",
        "\n",
        "# Vertical Flip\n",
        "\n",
        "for img in images:\n",
        "\t# load the image\n",
        "\timage = load_img(path+str(img), target_size=(96, 96))\n",
        "\t# convert to numpy array\n",
        "\tdata = img_to_array(image)\n",
        "\t# expand dimension to one sample\n",
        "\tsamples = expand_dims(data, 0)\n",
        "\t# create image data augmentation generator\n",
        "\tdatagen = ImageDataGenerator(vertical_flip=True)\n",
        "\t# prepare iterator\n",
        "\tit = datagen.flow(samples, batch_size=1)\n",
        "\n",
        "\timg_id = 0\n",
        "\t# generate samples and plot\n",
        "\tfor _ in range(8):\n",
        "\t\t# generate batch of images\n",
        "\t\tbatch = it.next()\n",
        "\t\t# convert to unsigned integers for viewing\n",
        "\t\timage = batch[0].astype('uint8')\n",
        "\t\timg_id += 1\n",
        "\t\tphoto_path = path_augmented+f\"{uuid.uuid1()}.jpg\"\n",
        "\t\timage = cv2.cvtColor(image, cv2.COLOR_BGR2RGB)\n",
        "\t\tcv2.imwrite(photo_path, image)\n",
        "\t\tprint(\"Saved:\", photo_path)\n",
        "\n",
        "\n",
        "# Rotation\n",
        "\n",
        "for img in images:\n",
        "\t# load the image\n",
        "\timage = load_img(path+str(img), target_size=(96, 96))\n",
        "\t# convert to numpy array\n",
        "\tdata = img_to_array(image)\n",
        "\t# expand dimension to one sample\n",
        "\tsamples = expand_dims(data, 0)\n",
        "\t# create image data augmentation generator\n",
        "\tdatagen = ImageDataGenerator(rotation_range=90)\n",
        "\t# prepare iterator\n",
        "\tit = datagen.flow(samples, batch_size=1)\n",
        "\n",
        "\timg_id = 0\n",
        "\t# generate samples and plot\n",
        "\tfor _ in range(8):\n",
        "\t\t# generate batch of images\n",
        "\t\tbatch = it.next()\n",
        "\t\t# convert to unsigned integers for viewing\n",
        "\t\timage = batch[0].astype('uint8')\n",
        "\t\timg_id += 1\n",
        "\t\tphoto_path = path_augmented+f\"{uuid.uuid1()}.jpg\"\n",
        "\t\timage = cv2.cvtColor(image, cv2.COLOR_BGR2RGB)\n",
        "\t\tcv2.imwrite(photo_path, image)\n",
        "\t\tprint(\"Saved:\", photo_path)\n",
        "\n",
        "\n",
        "# Zoom\n",
        "\n",
        "for img in images:\n",
        "\t# load the image\n",
        "\timage = load_img(path+str(img), target_size=(96, 96))\n",
        "\t# convert to numpy array\n",
        "\tdata = img_to_array(image)\n",
        "\t# expand dimension to one sample\n",
        "\tsamples = expand_dims(data, 0)\n",
        "\t# create image data augmentation generator\n",
        "\tdatagen = ImageDataGenerator(zoom_range=[0.5,1.0])\n",
        "\t# prepare iterator\n",
        "\tit = datagen.flow(samples, batch_size=1)\n",
        "\n",
        "\timg_id = 0\n",
        "\t# generate samples and plot\n",
        "\tfor _ in range(8):\n",
        "\t\t# generate batch of images\n",
        "\t\tbatch = it.next()\n",
        "\t\t# convert to unsigned integers for viewing\n",
        "\t\timage = batch[0].astype('uint8')\n",
        "\t\timg_id += 1\n",
        "\t\tphoto_path = path_augmented+f\"{uuid.uuid1()}.jpg\"\n",
        "\t\timage = cv2.cvtColor(image, cv2.COLOR_BGR2RGB)\n",
        "\t\tcv2.imwrite(photo_path, image)\n",
        "\t\tprint(\"Saved:\", photo_path)"
      ],
      "metadata": {
        "id": "lZqDBM-NfM68"
      },
      "execution_count": null,
      "outputs": []
    },
    {
      "cell_type": "code",
      "source": [
        "from google.colab import drive\n",
        "drive.mount(\"/content/drive\")"
      ],
      "metadata": {
        "colab": {
          "base_uri": "https://localhost:8080/"
        },
        "id": "0FCmqb94VhoF",
        "outputId": "26a38d01-8e48-4ece-cbe8-7a21c815a66c"
      },
      "execution_count": 3,
      "outputs": [
        {
          "output_type": "stream",
          "name": "stdout",
          "text": [
            "Mounted at /content/drive\n"
          ]
        }
      ]
    },
    {
      "cell_type": "code",
      "source": [
        "! pip install -q kaggle\n",
        "! mkdir ~/.kaggle\n",
        "! cp kaggle.json ~/.kaggle/\n",
        "! chmod 600 ~/.kaggle/kaggle.json"
      ],
      "metadata": {
        "id": "rowR_M8xdhRq"
      },
      "execution_count": 41,
      "outputs": []
    },
    {
      "cell_type": "code",
      "source": [
        "!kaggle datasets download -d muhammadhananasghar/human-emotions-datasethes"
      ],
      "metadata": {
        "colab": {
          "base_uri": "https://localhost:8080/"
        },
        "id": "tdqO5B4Td2R_",
        "outputId": "bca7e089-2c5b-4828-cfbe-27bf885323dc"
      },
      "execution_count": 42,
      "outputs": [
        {
          "output_type": "stream",
          "name": "stdout",
          "text": [
            "Downloading human-emotions-datasethes.zip to /content\n",
            " 96% 297M/309M [00:03<00:00, 83.8MB/s]\n",
            "100% 309M/309M [00:03<00:00, 102MB/s] \n"
          ]
        }
      ]
    },
    {
      "cell_type": "code",
      "source": [
        "!unzip *.zip && rm -rf *.zip"
      ],
      "metadata": {
        "id": "FA5t2Zl8XvXG"
      },
      "execution_count": null,
      "outputs": []
    },
    {
      "cell_type": "code",
      "source": [
        "import tensorflow as tf"
      ],
      "metadata": {
        "id": "ckjM2hnYd8FP"
      },
      "execution_count": 1,
      "outputs": []
    },
    {
      "cell_type": "code",
      "source": [
        "IMG_WIDTH = 64\n",
        "IMG_HEIGHT = 64\n",
        "BATCH_SIZE = 256\n",
        "EPOCHS = 50"
      ],
      "metadata": {
        "id": "Hxw52MxbeYu_"
      },
      "execution_count": 2,
      "outputs": []
    },
    {
      "cell_type": "code",
      "source": [
        "!pip install split-folders\n",
        "\n",
        "\n",
        "import splitfolders\n",
        "splitfolders.ratio('Augmented', output=\"output\", seed=1337, ratio=(.8, 0.1,0.1))"
      ],
      "metadata": {
        "colab": {
          "base_uri": "https://localhost:8080/"
        },
        "id": "jd-mfVxOjKx3",
        "outputId": "72c4342e-2da3-4760-b2af-4a581fcffbdc"
      },
      "execution_count": 67,
      "outputs": [
        {
          "output_type": "stream",
          "name": "stdout",
          "text": [
            "Collecting split-folders\n",
            "  Downloading split_folders-0.5.1-py3-none-any.whl (8.4 kB)\n",
            "Installing collected packages: split-folders\n",
            "Successfully installed split-folders-0.5.1\n"
          ]
        },
        {
          "output_type": "stream",
          "name": "stderr",
          "text": [
            "Copying files: 145165 files [00:31, 4561.43 files/s]\n"
          ]
        }
      ]
    },
    {
      "cell_type": "code",
      "source": [
        "!rm -rf \"/content/output/train/.ipynb_checkpoints\"\n",
        "!rm -rf \"/content/output/test/.ipynb_checkpoints\"\n",
        "!rm -rf \"/content/output/val/.ipynb_checkpoints\""
      ],
      "metadata": {
        "id": "XoLFLV54jhjF"
      },
      "execution_count": 70,
      "outputs": []
    },
    {
      "cell_type": "code",
      "source": [
        "train_datagen = tf.keras.preprocessing.image.ImageDataGenerator(rescale=1./255,\n",
        "                                   shear_range=0.2,\n",
        "                                   zoom_range=0.2,\n",
        "                                   rotation_range=45,\n",
        "                                   horizontal_flip=True,\n",
        "                                   vertical_flip=True)\n",
        "test_datagen = tf.keras.preprocessing.image.ImageDataGenerator(rescale=1./255)\n",
        "\n",
        "training_set = train_datagen.flow_from_directory(\"/content/output/train\",\n",
        "                                       target_size=(IMG_HEIGHT, IMG_WIDTH),\n",
        "                                                batch_size=BATCH_SIZE,\n",
        "                                     class_mode='categorical')\n",
        "\n",
        "test_set = test_datagen.flow_from_directory(\"/content/output/test\",\n",
        "                                       target_size=(IMG_HEIGHT, IMG_WIDTH),\n",
        "                                                batch_size=BATCH_SIZE,\n",
        "                                     class_mode='categorical')\n",
        "\n",
        "val_set = test_datagen.flow_from_directory(\"/content/output/val\",\n",
        "                                       target_size=(IMG_HEIGHT, IMG_WIDTH),\n",
        "                                                batch_size=BATCH_SIZE,\n",
        "                                     class_mode='categorical')"
      ],
      "metadata": {
        "colab": {
          "base_uri": "https://localhost:8080/"
        },
        "id": "DaGEsdetd8IL",
        "outputId": "7374d5b9-fa71-4565-c227-fedfdab2f7c4"
      },
      "execution_count": 3,
      "outputs": [
        {
          "output_type": "stream",
          "name": "stdout",
          "text": [
            "Found 116132 images belonging to 3 classes.\n",
            "Found 14517 images belonging to 3 classes.\n",
            "Found 14516 images belonging to 3 classes.\n"
          ]
        }
      ]
    },
    {
      "cell_type": "code",
      "source": [
        "class_names = training_set.class_indices\n",
        "num_classes =len(class_names)\n",
        "print(class_names, num_classes)"
      ],
      "metadata": {
        "colab": {
          "base_uri": "https://localhost:8080/"
        },
        "id": "WlHqbV7fegWV",
        "outputId": "fa234ac6-95be-4d26-afd1-357a758cbc34"
      },
      "execution_count": 4,
      "outputs": [
        {
          "output_type": "stream",
          "name": "stdout",
          "text": [
            "{'angry': 0, 'happy': 1, 'sad': 2} 3\n"
          ]
        }
      ]
    },
    {
      "cell_type": "code",
      "source": [
        "model = tf.keras.models.Sequential([\n",
        "\n",
        "  tf.keras.layers.Conv2D(filters=32, kernel_size=(3, 3), padding=\"same\", activation=\"relu\", input_shape=(IMG_HEIGHT, IMG_WIDTH, 3)),\n",
        "  tf.keras.layers.MaxPooling2D(pool_size=(2, 2)),\n",
        "\n",
        "  tf.keras.layers.Dropout(rate=0.2),\n",
        "  tf.keras.layers.Conv2D(filters=64, kernel_size=(3, 3), padding=\"same\", activation=\"relu\"),\n",
        "  tf.keras.layers.MaxPooling2D(pool_size=(2, 2)),\n",
        "\n",
        "  tf.keras.layers.Dropout(rate=0.2),\n",
        "  tf.keras.layers.Conv2D(filters=128, kernel_size=(3, 3), padding=\"same\", activation=\"relu\"),\n",
        "  tf.keras.layers.MaxPooling2D(pool_size=(2, 2)),\n",
        "\n",
        "  tf.keras.layers.Dropout(rate=0.2),\n",
        "  tf.keras.layers.Conv2D(filters=256, kernel_size=(3, 3), padding=\"same\", activation=\"relu\"),\n",
        "  tf.keras.layers.MaxPooling2D(pool_size=(2, 2)),\n",
        "\n",
        "  tf.keras.layers.Flatten(),\n",
        "  tf.keras.layers.Dense(units=512, activation=\"relu\"),\n",
        "  tf.keras.layers.Dropout(rate=0.1),\n",
        "  tf.keras.layers.Dense(units=512, activation=\"relu\"),\n",
        "  tf.keras.layers.Dense(units=num_classes, activation=\"softmax\")\n",
        "])"
      ],
      "metadata": {
        "id": "Pd8fKaZLesUi"
      },
      "execution_count": 5,
      "outputs": []
    },
    {
      "cell_type": "code",
      "source": [
        "model.summary()"
      ],
      "metadata": {
        "colab": {
          "base_uri": "https://localhost:8080/"
        },
        "id": "Yaw6HkpRknxt",
        "outputId": "ac3a6113-e604-41a3-b159-bc6770e8f0c6"
      },
      "execution_count": 6,
      "outputs": [
        {
          "output_type": "stream",
          "name": "stdout",
          "text": [
            "Model: \"sequential\"\n",
            "_________________________________________________________________\n",
            " Layer (type)                Output Shape              Param #   \n",
            "=================================================================\n",
            " conv2d (Conv2D)             (None, 64, 64, 32)        896       \n",
            "                                                                 \n",
            " max_pooling2d (MaxPooling2D  (None, 32, 32, 32)       0         \n",
            " )                                                               \n",
            "                                                                 \n",
            " dropout (Dropout)           (None, 32, 32, 32)        0         \n",
            "                                                                 \n",
            " conv2d_1 (Conv2D)           (None, 32, 32, 64)        18496     \n",
            "                                                                 \n",
            " max_pooling2d_1 (MaxPooling  (None, 16, 16, 64)       0         \n",
            " 2D)                                                             \n",
            "                                                                 \n",
            " dropout_1 (Dropout)         (None, 16, 16, 64)        0         \n",
            "                                                                 \n",
            " conv2d_2 (Conv2D)           (None, 16, 16, 128)       73856     \n",
            "                                                                 \n",
            " max_pooling2d_2 (MaxPooling  (None, 8, 8, 128)        0         \n",
            " 2D)                                                             \n",
            "                                                                 \n",
            " dropout_2 (Dropout)         (None, 8, 8, 128)         0         \n",
            "                                                                 \n",
            " conv2d_3 (Conv2D)           (None, 8, 8, 256)         295168    \n",
            "                                                                 \n",
            " max_pooling2d_3 (MaxPooling  (None, 4, 4, 256)        0         \n",
            " 2D)                                                             \n",
            "                                                                 \n",
            " flatten (Flatten)           (None, 4096)              0         \n",
            "                                                                 \n",
            " dense (Dense)               (None, 512)               2097664   \n",
            "                                                                 \n",
            " dropout_3 (Dropout)         (None, 512)               0         \n",
            "                                                                 \n",
            " dense_1 (Dense)             (None, 512)               262656    \n",
            "                                                                 \n",
            " dense_2 (Dense)             (None, 3)                 1539      \n",
            "                                                                 \n",
            "=================================================================\n",
            "Total params: 2,750,275\n",
            "Trainable params: 2,750,275\n",
            "Non-trainable params: 0\n",
            "_________________________________________________________________\n"
          ]
        }
      ]
    },
    {
      "cell_type": "code",
      "source": [
        "model.compile(optimizer='adam',\n",
        "              loss=\"categorical_crossentropy\",\n",
        "              metrics=['accuracy'])"
      ],
      "metadata": {
        "id": "pU1k7lxJeubC"
      },
      "execution_count": 7,
      "outputs": []
    },
    {
      "cell_type": "code",
      "source": [
        "checkpoint = tf.keras.callbacks.ModelCheckpoint(\"model.h5\",\n",
        "                             monitor=\"val_loss\",\n",
        "                             mode=\"min\",\n",
        "                             save_best_only=True,\n",
        "                             verbose = 1)\n",
        "\n",
        "earlystop = tf.keras.callbacks.EarlyStopping(monitor=\"val_loss\",\n",
        "                         min_delta=0,\n",
        "                         patience=3,\n",
        "                         verbose=1,\n",
        "                         restore_best_weights=True)\n",
        "\n",
        "callbacks = [earlystop, checkpoint]"
      ],
      "metadata": {
        "id": "tWmxl4-few1S"
      },
      "execution_count": 8,
      "outputs": []
    },
    {
      "cell_type": "code",
      "source": [
        "history = model.fit(\n",
        "  training_set,\n",
        "  validation_data = test_set,\n",
        "  epochs = EPOCHS,\n",
        "  callbacks = callbacks,\n",
        ")"
      ],
      "metadata": {
        "colab": {
          "base_uri": "https://localhost:8080/"
        },
        "id": "lKDNeyDyeyJE",
        "outputId": "e88babba-7695-4a77-9eab-76da2a101b9a"
      },
      "execution_count": 9,
      "outputs": [
        {
          "output_type": "stream",
          "name": "stdout",
          "text": [
            "Epoch 1/50\n",
            "454/454 [==============================] - ETA: 0s - loss: 0.9758 - accuracy: 0.5286\n",
            "Epoch 1: val_loss improved from inf to 0.90674, saving model to model.h5\n",
            "454/454 [==============================] - 233s 506ms/step - loss: 0.9758 - accuracy: 0.5286 - val_loss: 0.9067 - val_accuracy: 0.5634\n",
            "Epoch 2/50\n",
            "454/454 [==============================] - ETA: 0s - loss: 0.8758 - accuracy: 0.5845\n",
            "Epoch 2: val_loss improved from 0.90674 to 0.76594, saving model to model.h5\n",
            "454/454 [==============================] - 230s 507ms/step - loss: 0.8758 - accuracy: 0.5845 - val_loss: 0.7659 - val_accuracy: 0.6534\n",
            "Epoch 3/50\n",
            "454/454 [==============================] - ETA: 0s - loss: 0.7766 - accuracy: 0.6472\n",
            "Epoch 3: val_loss improved from 0.76594 to 0.67144, saving model to model.h5\n",
            "454/454 [==============================] - 229s 505ms/step - loss: 0.7766 - accuracy: 0.6472 - val_loss: 0.6714 - val_accuracy: 0.7116\n",
            "Epoch 4/50\n",
            "454/454 [==============================] - ETA: 0s - loss: 0.7071 - accuracy: 0.6862\n",
            "Epoch 4: val_loss improved from 0.67144 to 0.60667, saving model to model.h5\n",
            "454/454 [==============================] - 229s 505ms/step - loss: 0.7071 - accuracy: 0.6862 - val_loss: 0.6067 - val_accuracy: 0.7454\n",
            "Epoch 5/50\n",
            "454/454 [==============================] - ETA: 0s - loss: 0.6548 - accuracy: 0.7160\n",
            "Epoch 5: val_loss improved from 0.60667 to 0.54489, saving model to model.h5\n",
            "454/454 [==============================] - 230s 507ms/step - loss: 0.6548 - accuracy: 0.7160 - val_loss: 0.5449 - val_accuracy: 0.7692\n",
            "Epoch 6/50\n",
            "454/454 [==============================] - ETA: 0s - loss: 0.6129 - accuracy: 0.7362\n",
            "Epoch 6: val_loss improved from 0.54489 to 0.52206, saving model to model.h5\n",
            "454/454 [==============================] - 229s 505ms/step - loss: 0.6129 - accuracy: 0.7362 - val_loss: 0.5221 - val_accuracy: 0.7757\n",
            "Epoch 7/50\n",
            "454/454 [==============================] - ETA: 0s - loss: 0.5795 - accuracy: 0.7528\n",
            "Epoch 7: val_loss improved from 0.52206 to 0.49742, saving model to model.h5\n",
            "454/454 [==============================] - 229s 504ms/step - loss: 0.5795 - accuracy: 0.7528 - val_loss: 0.4974 - val_accuracy: 0.7862\n",
            "Epoch 8/50\n",
            "454/454 [==============================] - ETA: 0s - loss: 0.5465 - accuracy: 0.7674\n",
            "Epoch 8: val_loss improved from 0.49742 to 0.46129, saving model to model.h5\n",
            "454/454 [==============================] - 231s 508ms/step - loss: 0.5465 - accuracy: 0.7674 - val_loss: 0.4613 - val_accuracy: 0.8068\n",
            "Epoch 9/50\n",
            "454/454 [==============================] - ETA: 0s - loss: 0.5259 - accuracy: 0.7765\n",
            "Epoch 9: val_loss improved from 0.46129 to 0.41059, saving model to model.h5\n",
            "454/454 [==============================] - 231s 508ms/step - loss: 0.5259 - accuracy: 0.7765 - val_loss: 0.4106 - val_accuracy: 0.8275\n",
            "Epoch 10/50\n",
            "454/454 [==============================] - ETA: 0s - loss: 0.5038 - accuracy: 0.7870\n",
            "Epoch 10: val_loss did not improve from 0.41059\n",
            "454/454 [==============================] - 230s 505ms/step - loss: 0.5038 - accuracy: 0.7870 - val_loss: 0.4312 - val_accuracy: 0.8196\n",
            "Epoch 11/50\n",
            "454/454 [==============================] - ETA: 0s - loss: 0.4786 - accuracy: 0.7975\n",
            "Epoch 11: val_loss improved from 0.41059 to 0.38545, saving model to model.h5\n",
            "454/454 [==============================] - 229s 505ms/step - loss: 0.4786 - accuracy: 0.7975 - val_loss: 0.3855 - val_accuracy: 0.8360\n",
            "Epoch 12/50\n",
            "454/454 [==============================] - ETA: 0s - loss: 0.4648 - accuracy: 0.8033\n",
            "Epoch 12: val_loss improved from 0.38545 to 0.37342, saving model to model.h5\n",
            "454/454 [==============================] - 229s 505ms/step - loss: 0.4648 - accuracy: 0.8033 - val_loss: 0.3734 - val_accuracy: 0.8404\n",
            "Epoch 13/50\n",
            "454/454 [==============================] - ETA: 0s - loss: 0.4469 - accuracy: 0.8095\n",
            "Epoch 13: val_loss improved from 0.37342 to 0.36947, saving model to model.h5\n",
            "454/454 [==============================] - 229s 504ms/step - loss: 0.4469 - accuracy: 0.8095 - val_loss: 0.3695 - val_accuracy: 0.8420\n",
            "Epoch 14/50\n",
            "454/454 [==============================] - ETA: 0s - loss: 0.4355 - accuracy: 0.8156\n",
            "Epoch 14: val_loss improved from 0.36947 to 0.36584, saving model to model.h5\n",
            "454/454 [==============================] - 229s 504ms/step - loss: 0.4355 - accuracy: 0.8156 - val_loss: 0.3658 - val_accuracy: 0.8439\n",
            "Epoch 15/50\n",
            "454/454 [==============================] - ETA: 0s - loss: 0.4219 - accuracy: 0.8204\n",
            "Epoch 15: val_loss did not improve from 0.36584\n",
            "454/454 [==============================] - 228s 503ms/step - loss: 0.4219 - accuracy: 0.8204 - val_loss: 0.3701 - val_accuracy: 0.8441\n",
            "Epoch 16/50\n",
            "454/454 [==============================] - ETA: 0s - loss: 0.4106 - accuracy: 0.8250\n",
            "Epoch 16: val_loss improved from 0.36584 to 0.33110, saving model to model.h5\n",
            "454/454 [==============================] - 229s 504ms/step - loss: 0.4106 - accuracy: 0.8250 - val_loss: 0.3311 - val_accuracy: 0.8579\n",
            "Epoch 17/50\n",
            "454/454 [==============================] - ETA: 0s - loss: 0.4002 - accuracy: 0.8294\n",
            "Epoch 17: val_loss did not improve from 0.33110\n",
            "454/454 [==============================] - 229s 504ms/step - loss: 0.4002 - accuracy: 0.8294 - val_loss: 0.3345 - val_accuracy: 0.8552\n",
            "Epoch 18/50\n",
            "454/454 [==============================] - ETA: 0s - loss: 0.3942 - accuracy: 0.8319\n",
            "Epoch 18: val_loss improved from 0.33110 to 0.32168, saving model to model.h5\n",
            "454/454 [==============================] - 230s 506ms/step - loss: 0.3942 - accuracy: 0.8319 - val_loss: 0.3217 - val_accuracy: 0.8595\n",
            "Epoch 19/50\n",
            "454/454 [==============================] - ETA: 0s - loss: 0.3843 - accuracy: 0.8369\n",
            "Epoch 19: val_loss improved from 0.32168 to 0.32144, saving model to model.h5\n",
            "454/454 [==============================] - 230s 507ms/step - loss: 0.3843 - accuracy: 0.8369 - val_loss: 0.3214 - val_accuracy: 0.8633\n",
            "Epoch 20/50\n",
            "454/454 [==============================] - ETA: 0s - loss: 0.3750 - accuracy: 0.8397\n",
            "Epoch 20: val_loss improved from 0.32144 to 0.31467, saving model to model.h5\n",
            "454/454 [==============================] - 230s 507ms/step - loss: 0.3750 - accuracy: 0.8397 - val_loss: 0.3147 - val_accuracy: 0.8632\n",
            "Epoch 21/50\n",
            "454/454 [==============================] - ETA: 0s - loss: 0.3718 - accuracy: 0.8413\n",
            "Epoch 21: val_loss improved from 0.31467 to 0.28892, saving model to model.h5\n",
            "454/454 [==============================] - 230s 506ms/step - loss: 0.3718 - accuracy: 0.8413 - val_loss: 0.2889 - val_accuracy: 0.8738\n",
            "Epoch 22/50\n",
            "454/454 [==============================] - ETA: 0s - loss: 0.3602 - accuracy: 0.8469\n",
            "Epoch 22: val_loss did not improve from 0.28892\n",
            "454/454 [==============================] - 229s 505ms/step - loss: 0.3602 - accuracy: 0.8469 - val_loss: 0.2918 - val_accuracy: 0.8713\n",
            "Epoch 23/50\n",
            "454/454 [==============================] - ETA: 0s - loss: 0.3548 - accuracy: 0.8482\n",
            "Epoch 23: val_loss improved from 0.28892 to 0.28713, saving model to model.h5\n",
            "454/454 [==============================] - 229s 505ms/step - loss: 0.3548 - accuracy: 0.8482 - val_loss: 0.2871 - val_accuracy: 0.8739\n",
            "Epoch 24/50\n",
            "454/454 [==============================] - ETA: 0s - loss: 0.3532 - accuracy: 0.8499\n",
            "Epoch 24: val_loss did not improve from 0.28713\n",
            "454/454 [==============================] - 229s 504ms/step - loss: 0.3532 - accuracy: 0.8499 - val_loss: 0.2917 - val_accuracy: 0.8727\n",
            "Epoch 25/50\n",
            "454/454 [==============================] - ETA: 0s - loss: 0.3454 - accuracy: 0.8515\n",
            "Epoch 25: val_loss improved from 0.28713 to 0.28115, saving model to model.h5\n",
            "454/454 [==============================] - 229s 503ms/step - loss: 0.3454 - accuracy: 0.8515 - val_loss: 0.2812 - val_accuracy: 0.8777\n",
            "Epoch 26/50\n",
            "454/454 [==============================] - ETA: 0s - loss: 0.3393 - accuracy: 0.8546\n",
            "Epoch 26: val_loss did not improve from 0.28115\n",
            "454/454 [==============================] - 228s 503ms/step - loss: 0.3393 - accuracy: 0.8546 - val_loss: 0.2918 - val_accuracy: 0.8721\n",
            "Epoch 27/50\n",
            "454/454 [==============================] - ETA: 0s - loss: 0.3351 - accuracy: 0.8553\n",
            "Epoch 27: val_loss improved from 0.28115 to 0.27851, saving model to model.h5\n",
            "454/454 [==============================] - 229s 503ms/step - loss: 0.3351 - accuracy: 0.8553 - val_loss: 0.2785 - val_accuracy: 0.8789\n",
            "Epoch 28/50\n",
            "454/454 [==============================] - ETA: 0s - loss: 0.3312 - accuracy: 0.8567\n",
            "Epoch 28: val_loss improved from 0.27851 to 0.26470, saving model to model.h5\n",
            "454/454 [==============================] - 229s 503ms/step - loss: 0.3312 - accuracy: 0.8567 - val_loss: 0.2647 - val_accuracy: 0.8823\n",
            "Epoch 29/50\n",
            "454/454 [==============================] - ETA: 0s - loss: 0.3267 - accuracy: 0.8593\n",
            "Epoch 29: val_loss did not improve from 0.26470\n",
            "454/454 [==============================] - 229s 504ms/step - loss: 0.3267 - accuracy: 0.8593 - val_loss: 0.2885 - val_accuracy: 0.8757\n",
            "Epoch 30/50\n",
            "454/454 [==============================] - ETA: 0s - loss: 0.3247 - accuracy: 0.8598\n",
            "Epoch 30: val_loss did not improve from 0.26470\n",
            "454/454 [==============================] - 229s 504ms/step - loss: 0.3247 - accuracy: 0.8598 - val_loss: 0.2722 - val_accuracy: 0.8787\n",
            "Epoch 31/50\n",
            "454/454 [==============================] - ETA: 0s - loss: 0.3193 - accuracy: 0.8621Restoring model weights from the end of the best epoch: 28.\n",
            "\n",
            "Epoch 31: val_loss did not improve from 0.26470\n",
            "454/454 [==============================] - 229s 504ms/step - loss: 0.3193 - accuracy: 0.8621 - val_loss: 0.2737 - val_accuracy: 0.8785\n",
            "Epoch 31: early stopping\n"
          ]
        }
      ]
    },
    {
      "cell_type": "code",
      "source": [
        "model.evaluate(val_set)"
      ],
      "metadata": {
        "colab": {
          "base_uri": "https://localhost:8080/"
        },
        "id": "e2qy0NABezeA",
        "outputId": "10963150-3e24-421d-cc03-32067eb35c65"
      },
      "execution_count": 10,
      "outputs": [
        {
          "output_type": "stream",
          "name": "stdout",
          "text": [
            "57/57 [==============================] - 10s 167ms/step - loss: 0.2703 - accuracy: 0.8813\n"
          ]
        },
        {
          "output_type": "execute_result",
          "data": {
            "text/plain": [
              "[0.27032551169395447, 0.8813033699989319]"
            ]
          },
          "metadata": {},
          "execution_count": 10
        }
      ]
    },
    {
      "cell_type": "code",
      "source": [
        "import matplotlib.pyplot as plt\n",
        "\n",
        "\n",
        "plt.plot(history.history['loss'], label='train loss')\n",
        "plt.plot(history.history['val_loss'], label='val loss')\n",
        "plt.legend()\n",
        "plt.show()\n",
        "\n",
        "# accuracies\n",
        "plt.plot(history.history['accuracy'], label='train acc')\n",
        "plt.plot(history.history['val_accuracy'], label='val acc')\n",
        "plt.legend()\n",
        "plt.show()"
      ],
      "metadata": {
        "colab": {
          "base_uri": "https://localhost:8080/",
          "height": 514
        },
        "id": "o_iJNrktALbo",
        "outputId": "41715532-6489-4afb-af08-05db7ceaf0e9"
      },
      "execution_count": 11,
      "outputs": [
        {
          "output_type": "display_data",
          "data": {
            "image/png": "[encoded data removed]",
            "text/plain": [
              "<Figure size 432x288 with 1 Axes>"
            ]
          },
          "metadata": {
            "needs_background": "light"
          }
        },
        {
          "output_type": "display_data",
          "data": {
            "image/png": "[encoded data removed]",
            "text/plain": [
              "<Figure size 432x288 with 1 Axes>"
            ]
          },
          "metadata": {
            "needs_background": "light"
          }
        }
      ]
    },
    {
      "cell_type": "code",
      "source": [
        "import numpy as np\n",
        "\n",
        "test_img, test_lbl = test_set.__next__()\n",
        "predictions=model.predict(test_img)"
      ],
      "metadata": {
        "id": "XGfXR6OkAPHG"
      },
      "execution_count": 13,
      "outputs": []
    },
    {
      "cell_type": "code",
      "source": [
        "predictions = np.argmax(predictions, axis=1)\n",
        "predictions"
      ],
      "metadata": {
        "colab": {
          "base_uri": "https://localhost:8080/"
        },
        "id": "avgj8TLdASGm",
        "outputId": "0bdc04ed-32a1-4eb8-e537-f3cf8ad77883"
      },
      "execution_count": 14,
      "outputs": [
        {
          "output_type": "execute_result",
          "data": {
            "text/plain": [
              "array([2, 1, 0, 2, 0, 1, 1, 1, 1, 0, 0, 1, 0, 0, 2, 0, 0, 1, 2, 0, 0, 0,\n",
              "       1, 2, 0, 0, 0, 0, 0, 2, 1, 1, 0, 0, 0, 1, 2, 0, 0, 2, 0, 0, 0, 2,\n",
              "       1, 0, 0, 0, 0, 1, 1, 1, 0, 0, 0, 0, 2, 0, 0, 1, 0, 2, 1, 0, 2, 0,\n",
              "       2, 0, 0, 0, 1, 0, 0, 1, 1, 0, 0, 0, 2, 2, 2, 0, 1, 0, 1, 1, 0, 2,\n",
              "       0, 0, 0, 1, 2, 1, 0, 0, 0, 1, 0, 2, 0, 0, 0, 0, 0, 1, 2, 0, 2, 0,\n",
              "       0, 0, 2, 0, 1, 0, 0, 1, 2, 0, 0, 2, 0, 0, 0, 1, 0, 0, 0, 0, 0, 1,\n",
              "       1, 1, 2, 0, 0, 2, 0, 0, 0, 2, 0, 1, 1, 1, 0, 0, 0, 1, 1, 0, 2, 0,\n",
              "       1, 0, 2, 1, 1, 0, 1, 1, 0, 0, 0, 1, 0, 0, 0, 1, 0, 0, 2, 1, 1, 2,\n",
              "       1, 1, 1, 0, 1, 0, 1, 2, 0, 0, 1, 0, 0, 0, 0, 0, 0, 0, 2, 1, 0, 0,\n",
              "       2, 0, 0, 0, 0, 0, 0, 0, 0, 0, 0, 2, 0, 2, 1, 2, 0, 1, 0, 1, 1, 1,\n",
              "       0, 0, 2, 2, 0, 0, 0, 0, 0, 1, 2, 0, 2, 2, 1, 0, 0, 0, 0, 0, 0, 0,\n",
              "       0, 0, 1, 0, 0, 1, 2, 0, 0, 2, 0, 2, 1, 0])"
            ]
          },
          "metadata": {},
          "execution_count": 14
        }
      ]
    },
    {
      "cell_type": "code",
      "source": [
        "test_labels = np.argmax(test_lbl, axis=1)"
      ],
      "metadata": {
        "id": "Lq1vpoA7AaTX"
      },
      "execution_count": 16,
      "outputs": []
    },
    {
      "cell_type": "code",
      "source": [
        "test_labels"
      ],
      "metadata": {
        "colab": {
          "base_uri": "https://localhost:8080/"
        },
        "id": "hgE5wbalAb-n",
        "outputId": "c70b32bf-73fd-4b15-a1ac-dd2ccbf543dd"
      },
      "execution_count": 17,
      "outputs": [
        {
          "output_type": "execute_result",
          "data": {
            "text/plain": [
              "array([2, 1, 0, 2, 0, 0, 1, 1, 1, 0, 0, 1, 0, 0, 1, 1, 0, 1, 2, 1, 2, 0,\n",
              "       1, 2, 0, 0, 0, 0, 0, 2, 1, 1, 0, 0, 1, 1, 1, 0, 0, 2, 1, 0, 0, 2,\n",
              "       1, 0, 0, 0, 0, 1, 1, 1, 0, 0, 0, 0, 2, 0, 0, 1, 0, 1, 0, 0, 2, 0,\n",
              "       2, 0, 0, 0, 1, 0, 2, 1, 1, 0, 0, 0, 2, 2, 2, 0, 1, 0, 1, 0, 0, 2,\n",
              "       0, 0, 0, 2, 2, 1, 0, 0, 0, 1, 0, 2, 0, 2, 0, 0, 0, 1, 1, 0, 2, 0,\n",
              "       0, 2, 2, 1, 0, 0, 0, 1, 2, 2, 0, 2, 0, 0, 0, 1, 0, 0, 0, 0, 0, 1,\n",
              "       1, 1, 2, 0, 1, 2, 0, 0, 0, 1, 0, 1, 1, 1, 0, 0, 0, 1, 1, 0, 2, 0,\n",
              "       0, 0, 2, 1, 1, 1, 1, 0, 1, 0, 0, 1, 0, 0, 2, 1, 0, 2, 2, 1, 1, 2,\n",
              "       2, 2, 1, 0, 1, 1, 0, 2, 0, 0, 1, 0, 2, 0, 0, 0, 0, 0, 2, 1, 0, 0,\n",
              "       2, 0, 0, 0, 0, 0, 1, 0, 1, 1, 0, 2, 0, 2, 1, 2, 0, 1, 0, 1, 1, 1,\n",
              "       1, 0, 2, 2, 0, 0, 0, 0, 0, 1, 2, 0, 2, 2, 1, 1, 0, 0, 0, 0, 0, 0,\n",
              "       2, 0, 1, 0, 0, 1, 2, 0, 0, 2, 0, 2, 1, 2])"
            ]
          },
          "metadata": {},
          "execution_count": 17
        }
      ]
    },
    {
      "cell_type": "code",
      "source": [
        "from sklearn.metrics import confusion_matrix\n",
        "\n",
        "cm = confusion_matrix(test_labels, predictions)"
      ],
      "metadata": {
        "id": "Xc3hKvxIAhPb"
      },
      "execution_count": 19,
      "outputs": []
    },
    {
      "cell_type": "code",
      "source": [
        "import seaborn as sns\n",
        "sns.heatmap(cm, annot=True)"
      ],
      "metadata": {
        "colab": {
          "base_uri": "https://localhost:8080/",
          "height": 282
        },
        "id": "E6NW3OxNAjJM",
        "outputId": "37448838-7817-45c4-a69e-f939bd2b7fac"
      },
      "execution_count": 20,
      "outputs": [
        {
          "output_type": "execute_result",
          "data": {
            "text/plain": [
              "<matplotlib.axes._subplots.AxesSubplot at 0x7f6d3f8c81d0>"
            ]
          },
          "metadata": {},
          "execution_count": 20
        },
        {
          "output_type": "display_data",
          "data": {
            "image/png": "[encoded data removed]",
            "text/plain": [
              "<Figure size 432x288 with 2 Axes>"
            ]
          },
          "metadata": {
            "needs_background": "light"
          }
        }
      ]
    },
    {
      "cell_type": "code",
      "source": [
        "import tensorflow as tf\n",
        "\n",
        "model =tf.keras.models.load_model(\"/content/model.h5\")\n",
        "\n",
        "converter = tf.lite.TFLiteConverter.from_keras_model(model)\n",
        "tflite_model = converter.convert()\n",
        "open(\"model_em_.tflite\", \"wb\").write(tflite_model)"
      ],
      "metadata": {
        "colab": {
          "base_uri": "https://localhost:8080/"
        },
        "id": "q2UnmEvvAmL3",
        "outputId": "a826f3aa-ef2f-43bc-ea16-c1c04e7d8a00"
      },
      "execution_count": 21,
      "outputs": [
        {
          "output_type": "stream",
          "name": "stdout",
          "text": [
            "INFO:tensorflow:Assets written to: /tmp/tmpdye55n2w/assets\n"
          ]
        },
        {
          "output_type": "stream",
          "name": "stderr",
          "text": [
            "WARNING:absl:Buffer deduplication procedure will be skipped when flatbuffer library is not properly loaded\n"
          ]
        },
        {
          "output_type": "execute_result",
          "data": {
            "text/plain": [
              "11005660"
            ]
          },
          "metadata": {},
          "execution_count": 21
        }
      ]
    },
    {
      "cell_type": "markdown",
      "source": [
        "Implemented By Muhammad Hanan Asghar"
      ],
      "metadata": {
        "id": "S3x0ASw6A2p9"
      }
    }
  ]
}